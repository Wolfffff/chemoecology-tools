{
 "cells": [
  {
   "cell_type": "markdown",
   "metadata": {},
   "source": [
    "# Example Notebook"
   ]
  },
  {
   "cell_type": "code",
   "execution_count": null,
   "metadata": {},
   "outputs": [],
   "source": [
    "# example.ipynb\n",
    "\n",
    "from chemoecology_tools.core import GCMSExperiment\n",
    "from chemoecology_tools.analysis import calculate_enrichment_table, perform_nmds\n",
    "from chemoecology_tools.visualization import plot_nmds"
   ]
  },
  {
   "cell_type": "code",
   "execution_count": null,
   "metadata": {},
   "outputs": [],
   "source": [
    "USER_PROVIDED_CHEMICAL_METADATA_PATH = \"../example_data/user_provided_chemical_metadata.yaml\"\n",
    "ABUNDANCE_DATA_PATH = \"../example_data/LBAL23_relative_abundance.csv\"\n",
    "USER_PROVIDED_SAMPLE_METADATA_PATH = \"../example_data/LBAL23_metadata.csv\"\n",
    "ID_COLUMN = \"Bee #\""
   ]
  },
  {
   "cell_type": "code",
   "execution_count": null,
   "metadata": {},
   "outputs": [],
   "source": [
    "# Load experimental data with metadata\n",
    "experiment = GCMSExperiment.from_files(\n",
    "    abundance_path=ABUNDANCE_DATA_PATH,\n",
    "    metadata_path=USER_PROVIDED_SAMPLE_METADATA_PATH,\n",
    "    id_col=ID_COLUMN,\n",
    "    fetch_pubchem=True,\n",
    "    filter_dict={\n",
    "        \"CHC File Located\": [\"NO\", \"Bleed\"],\n",
    "        \"Quality\": [\"poor\", \"contaminated\"],\n",
    "        \"Nest Code\": [\"E-JS-030\", \"E-JS-033\", \"E-JS-037\", \"E-KO-140\", \"E-KO-143\"]\n",
    "    },\n",
    "    user_chemical_metadata=USER_PROVIDED_CHEMICAL_METADATA_PATH\n",
    ")"
   ]
  },
  {
   "cell_type": "code",
   "execution_count": null,
   "metadata": {},
   "outputs": [],
   "source": [
    "print(experiment)"
   ]
  },
  {
   "cell_type": "code",
   "execution_count": null,
   "metadata": {},
   "outputs": [],
   "source": [
    "# Filter and process data\n",
    "filtered = experiment.filter_trace_compounds(threshold=0.005)\n",
    "relative = filtered.calculate_relative_abundance()"
   ]
  },
  {
   "cell_type": "code",
   "execution_count": null,
   "metadata": {},
   "outputs": [],
   "source": [
    "filtered.metadata_df.head()"
   ]
  },
  {
   "cell_type": "code",
   "execution_count": null,
   "metadata": {},
   "outputs": [],
   "source": [
    "import pandas as pd\n",
    "\n",
    "meta_mask = filtered.metadata_df[\"Caste\"].isin([\"Sol_r\", \"Sol_nr\"])\n",
    "chem_mask = pd.Series([\n",
    "    filtered.get_chemical_property(c, \"class\") == \"Alkane\"\n",
    "    for c in filtered.chemical_cols\n",
    "], index=filtered.chemical_cols)"
   ]
  },
  {
   "cell_type": "code",
   "execution_count": null,
   "metadata": {},
   "outputs": [],
   "source": [
    "filtered_exp = experiment.filter(\n",
    "    metadata_mask=meta_mask,\n",
    "    chemical_mask=chem_mask\n",
    ")\n",
    "print(filtered_exp)"
   ]
  },
  {
   "cell_type": "code",
   "execution_count": null,
   "metadata": {},
   "outputs": [],
   "source": [
    "nmds_df = perform_nmds(relative)\n",
    "nmds_df.head()"
   ]
  },
  {
   "cell_type": "code",
   "execution_count": null,
   "metadata": {},
   "outputs": [],
   "source": [
    "# Create plots with different groupings\n",
    "# By caste\n",
    "fig1 = plot_nmds(\n",
    "    experiment=relative,\n",
    "    nmds_coords=nmds_df,\n",
    "    group_col=\"Caste\",\n",
    "    title=\"Chemical Profiles by Caste\"\n",
    ")"
   ]
  },
  {
   "cell_type": "code",
   "execution_count": null,
   "metadata": {},
   "outputs": [],
   "source": [
    "# Generate enrichment table\n",
    "enrichment_table = calculate_enrichment_table(\n",
    "    experiment=filtered,\n",
    "    group_column='Caste',\n",
    "    class_column='class',\n",
    "    alpha=0.05\n",
    ")"
   ]
  },
  {
   "cell_type": "code",
   "execution_count": null,
   "metadata": {},
   "outputs": [],
   "source": [
    "enrichment_table.head()"
   ]
  },
  {
   "cell_type": "code",
   "execution_count": null,
   "metadata": {},
   "outputs": [],
   "source": []
  }
 ],
 "metadata": {
  "kernelspec": {
   "display_name": ".venv",
   "language": "python",
   "name": "python3"
  },
  "language_info": {
   "codemirror_mode": {
    "name": "ipython",
    "version": 3
   },
   "file_extension": ".py",
   "mimetype": "text/x-python",
   "name": "python",
   "nbconvert_exporter": "python",
   "pygments_lexer": "ipython3",
   "version": "3.13.0"
  }
 },
 "nbformat": 4,
 "nbformat_minor": 2
}
